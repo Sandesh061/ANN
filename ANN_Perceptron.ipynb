{
 "cells": [
  {
   "cell_type": "code",
   "execution_count": 1,
   "metadata": {
    "id": "hAXy4UIb8brB"
   },
   "outputs": [],
   "source": [
    "import numpy as np\n",
    "import matplotlib.pyplot as plt"
   ]
  },
  {
   "cell_type": "code",
   "execution_count": 7,
   "metadata": {
    "id": "rKdyOkVt9CIc"
   },
   "outputs": [],
   "source": [
    "X = np.array([[0, 0], [0,1],[1,0], [1,1]])\n",
    "y = np.array([-1,-1,-1,1])"
   ]
  },
  {
   "cell_type": "code",
   "execution_count": 8,
   "metadata": {
    "id": "U1b8T0DV9Eui"
   },
   "outputs": [],
   "source": [
    "weights = np.zeros(X.shape[1])\n",
    "bias = 0"
   ]
  },
  {
   "cell_type": "code",
   "execution_count": 9,
   "metadata": {
    "id": "jsyYMMYu9G8-"
   },
   "outputs": [],
   "source": [
    "learning_rate = 0.1\n",
    "num_epochs = 10"
   ]
  },
  {
   "cell_type": "code",
   "execution_count": 10,
   "metadata": {
    "id": "lOnLhE5I9JbK"
   },
   "outputs": [],
   "source": [
    "for epoch in range(num_epochs):\n",
    "    for i in range(X.shape[0]):\n",
    "        # Calculate the predicted output\n",
    "        predicted_output = np.sign(np.dot(X[i], weights) + bias)\n",
    "\n",
    "        # Update the weights and bias\n",
    "        weights += learning_rate * (y[i] - predicted_output) * X[i]\n",
    "        bias += learning_rate * (y[i] - predicted_output)"
   ]
  },
  {
   "cell_type": "code",
   "execution_count": 11,
   "metadata": {
    "colab": {
     "base_uri": "https://localhost:8080/",
     "height": 430
    },
    "id": "fc16EA2U9MBc",
    "outputId": "503921f0-3d88-40fc-8503-35974526e474"
   },
   "outputs": [
    {
     "data": {
      "image/png": "[encoded data removed]",
      "text/plain": [
       "<Figure size 432x288 with 1 Axes>"
      ]
     },
     "metadata": {
      "needs_background": "light"
     },
     "output_type": "display_data"
    }
   ],
   "source": [
    "plt.scatter(X[:, 0], X[:, 1], c=y)\n",
    "\n",
    "x = np.linspace(0, 1, 100)\n",
    "y = (-weights[0] / weights[1]) * x - (bias / weights[1])#y=mx+c\n",
    "plt.plot(x, y)\n",
    "\n",
    "plt.show()"
   ]
  },
  {
   "cell_type": "code",
   "execution_count": null,
   "metadata": {
    "id": "a6qrbz-89Sa8"
   },
   "outputs": [],
   "source": [
    "x"
   ]
  },
  {
   "cell_type": "code",
   "execution_count": null,
   "metadata": {},
   "outputs": [],
   "source": []
  }
 ],
 "metadata": {
  "colab": {
   "provenance": []
  },
  "kernelspec": {
   "display_name": "Python 3 (ipykernel)",
   "language": "python",
   "name": "python3"
  },
  "language_info": {
   "codemirror_mode": {
    "name": "ipython",
    "version": 3
   },
   "file_extension": ".py",
   "mimetype": "text/x-python",
   "name": "python",
   "nbconvert_exporter": "python",
   "pygments_lexer": "ipython3",
   "version": "3.9.12"
  }
 },
 "nbformat": 4,
 "nbformat_minor": 1
}
