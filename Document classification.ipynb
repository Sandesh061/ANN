{
 "cells": [
  {
   "cell_type": "code",
   "execution_count": 1,
   "id": "5d0a7d61",
   "metadata": {},
   "outputs": [
    {
     "name": "stdout",
     "output_type": "stream",
     "text": [
      "Collecting textblob\n",
      "  Downloading textblob-0.17.1-py2.py3-none-any.whl (636 kB)\n",
      "Requirement already satisfied: nltk>=3.1 in c:\\users\\sandesh\\anaconda3\\lib\\site-packages (from textblob) (3.7)\n",
      "Requirement already satisfied: regex>=2021.8.3 in c:\\users\\sandesh\\anaconda3\\lib\\site-packages (from nltk>=3.1->textblob) (2022.3.15)\n",
      "Requirement already satisfied: click in c:\\users\\sandesh\\anaconda3\\lib\\site-packages (from nltk>=3.1->textblob) (8.0.4)\n",
      "Requirement already satisfied: tqdm in c:\\users\\sandesh\\anaconda3\\lib\\site-packages (from nltk>=3.1->textblob) (4.64.0)\n",
      "Requirement already satisfied: joblib in c:\\users\\sandesh\\anaconda3\\lib\\site-packages (from nltk>=3.1->textblob) (1.1.0)\n",
      "Requirement already satisfied: colorama in c:\\users\\sandesh\\anaconda3\\lib\\site-packages (from click->nltk>=3.1->textblob) (0.4.4)\n",
      "Installing collected packages: textblob\n",
      "Successfully installed textblob-0.17.1\n",
      "Note: you may need to restart the kernel to use updated packages.\n"
     ]
    }
   ],
   "source": [
    "pip install textblob"
   ]
  },
  {
   "cell_type": "code",
   "execution_count": 1,
   "id": "f2e31352",
   "metadata": {},
   "outputs": [],
   "source": [
    "# Importing TextBlob\n",
    "from textblob import TextBlob"
   ]
  },
  {
   "cell_type": "code",
   "execution_count": 2,
   "id": "83c240e0",
   "metadata": {},
   "outputs": [
    {
     "name": "stdout",
     "output_type": "stream",
     "text": [
      "Sentiment(polarity=0.2984623015873016, subjectivity=0.5168650793650794)\n"
     ]
    }
   ],
   "source": [
    "# Preparing an input sentence\n",
    "sentence = '''Whether it's your first time or you're just looking for tips to improve your kissing game, you might be wondering what the best way to kiss a girl is. Where do you put your hands? Tongue or no tongue? How do you make the kiss as memorable and enjoyable for her as possible? Don't worry—we've gathered all of the best kissing tricks and advice you'll ever need right here. With a little flirting and some easy techniques, your next kiss will sweep a girl straight off her feet. '''\n",
    "\n",
    "# Creating a textblob object and assigning the sentiment property\n",
    "analysis = TextBlob(sentence).sentiment\n",
    "print(analysis)"
   ]
  },
  {
   "cell_type": "code",
   "execution_count": 3,
   "id": "9933d361",
   "metadata": {},
   "outputs": [
    {
     "name": "stdout",
     "output_type": "stream",
     "text": [
      "0.2984623015873016\n",
      "0.5168650793650794\n"
     ]
    }
   ],
   "source": [
    "analysisPol = TextBlob(sentence).polarity\n",
    "analysisSub = TextBlob(sentence).subjectivity\n",
    "\n",
    "print(analysisPol)\n",
    "print(analysisSub)"
   ]
  },
  {
   "cell_type": "code",
   "execution_count": 4,
   "id": "a1b111c8",
   "metadata": {},
   "outputs": [],
   "source": [
    "def classify_sentiment(text):\n",
    "    testimonial = TextBlob(text)\n",
    "    polarity = testimonial.sentiment.polarity\n",
    "    if polarity > 0:\n",
    "        return \"Positive\"\n",
    "    elif polarity < 0:\n",
    "        return \"Negative\"\n",
    "    else:\n",
    "        return \"Neutral\""
   ]
  },
  {
   "cell_type": "code",
   "execution_count": 5,
   "id": "ba348bde",
   "metadata": {},
   "outputs": [
    {
     "data": {
      "text/plain": [
       "'Positive'"
      ]
     },
     "execution_count": 5,
     "metadata": {},
     "output_type": "execute_result"
    }
   ],
   "source": [
    "classify_sentiment(sentence)"
   ]
  },
  {
   "cell_type": "code",
   "execution_count": 6,
   "id": "eaf288e6",
   "metadata": {},
   "outputs": [],
   "source": [
    "from textblob import TextBlob\n",
    "# Importing the NaiveBayesAnalyzer classifier from NLTK\n",
    "from textblob.sentiments import NaiveBayesAnalyzer"
   ]
  },
  {
   "cell_type": "code",
   "execution_count": 7,
   "id": "f08b3da3",
   "metadata": {},
   "outputs": [
    {
     "data": {
      "text/plain": [
       "'Pornography can have negative consequences for both the user and his or her intimate partner. Some of the common damaging effects of pornography for users can include addiction, isolation, increased aggression, distorted beliefs and perceptions about relationships and sexuality, negative feelings about themselves, and neglecting other areas of their lives (Fight the New Drug, 2023; Maltz & Maltz, 2006; Manning, 2006). These negative consequences often carry over into other aspects of their lives, especially family and couple relationships. Within couple intimate relationships, pornography can have negative impacts in the following ways (Bridges et al., 2003; Huntington et al., 2021; Lambert et al., 2012; Manning, 2006; Schneider, 2003; Willoughby et al. 2016; Willoughby & Leonhardt, 2020):\\n\\n    User faces difficulty becoming sexually aroused without pornography.\\n    User loses interest and engages in fewer sexual experiences with partner.\\n    Pornography consumption may be correlated with increased behaviors of hooking up and infidelity.\\n    Partner feels sexually inadequate and threatened by pornography use.\\n    Partner may feel that certain sexual activities desired by user are objectionable.\\n    Both user and partner experience decreased relationship sexual satisfaction and emotional closeness.\\n    Relationship trust decreases due to dishonesty and deception about pornography use.\\n    Both user and partner experience lower relationship satisfaction and stability, less positive communication, and more psychological aggression between partners.\\n    One or both partners may be concerned about childrenâ€™s exposure to pornographic materials.\\n'"
      ]
     },
     "execution_count": 7,
     "metadata": {},
     "output_type": "execute_result"
    }
   ],
   "source": [
    "f = open(\"sentiment.txt\", \"r\")\n",
    "data=f.read()\n",
    "data"
   ]
  },
  {
   "cell_type": "code",
   "execution_count": 8,
   "id": "398c5628",
   "metadata": {},
   "outputs": [
    {
     "name": "stdout",
     "output_type": "stream",
     "text": [
      "Sentiment(classification='pos', p_pos=0.9999999985955171, p_neg=1.4044486047416704e-09)\n"
     ]
    }
   ],
   "source": [
    "# Applying the NaiveBayesAnalyzer\n",
    "blob_object = TextBlob(data, analyzer=NaiveBayesAnalyzer())\n",
    "# Running sentiment analysis\n",
    "analysis = blob_object.sentiment\n",
    "print(analysis)"
   ]
  },
  {
   "cell_type": "code",
   "execution_count": 9,
   "id": "6298c0b2",
   "metadata": {},
   "outputs": [
    {
     "data": {
      "text/plain": [
       "'Positive'"
      ]
     },
     "execution_count": 9,
     "metadata": {},
     "output_type": "execute_result"
    }
   ],
   "source": [
    "classify_sentiment(data)"
   ]
  },
  {
   "cell_type": "code",
   "execution_count": 10,
   "id": "5fbaa46f",
   "metadata": {},
   "outputs": [
    {
     "name": "stdout",
     "output_type": "stream",
     "text": [
      "0.04763908930575597\n",
      "0.5183862433862433\n"
     ]
    }
   ],
   "source": [
    "analysisPol = TextBlob(data).polarity\n",
    "analysisSub = TextBlob(data).subjectivity\n",
    "\n",
    "print(analysisPol)\n",
    "print(analysisSub)"
   ]
  },
  {
   "cell_type": "code",
   "execution_count": null,
   "id": "75a88fa3",
   "metadata": {},
   "outputs": [],
   "source": []
  }
 ],
 "metadata": {
  "kernelspec": {
   "display_name": "Python 3 (ipykernel)",
   "language": "python",
   "name": "python3"
  },
  "language_info": {
   "codemirror_mode": {
    "name": "ipython",
    "version": 3
   },
   "file_extension": ".py",
   "mimetype": "text/x-python",
   "name": "python",
   "nbconvert_exporter": "python",
   "pygments_lexer": "ipython3",
   "version": "3.9.12"
  }
 },
 "nbformat": 4,
 "nbformat_minor": 5
}
